{
  "nbformat": 4,
  "nbformat_minor": 0,
  "metadata": {
    "colab": {
      "provenance": []
    },
    "kernelspec": {
      "name": "python3",
      "display_name": "Python 3"
    },
    "language_info": {
      "name": "python"
    }
  },
  "cells": [
    {
      "cell_type": "code",
      "execution_count": null,
      "metadata": {
        "id": "FtBIqQQJ006h"
      },
      "outputs": [],
      "source": [
        "import numpy as np\n",
        "import matplotlib.pyplot as plt\n",
        "import pandas as pd"
      ]
    },
    {
      "cell_type": "markdown",
      "source": [
        "## Importing dataset"
      ],
      "metadata": {
        "id": "2yfMxOS5cuM9"
      }
    },
    {
      "cell_type": "code",
      "source": [
        "dataset = pd.read_csv('/content/drive/MyDrive/Classroom/X-IIoTID dataset.csv')"
      ],
      "metadata": {
        "colab": {
          "base_uri": "https://localhost:8080/"
        },
        "id": "0qOci2im1KZh",
        "outputId": "b5d51ed3-e73f-4b84-ebe3-b06f5be1e64a"
      },
      "execution_count": null,
      "outputs": [
        {
          "output_type": "stream",
          "name": "stderr",
          "text": [
            "/usr/local/lib/python3.8/dist-packages/IPython/core/interactiveshell.py:3326: DtypeWarning: Columns (1,3,5,12,24) have mixed types.Specify dtype option on import or set low_memory=False.\n",
            "  exec(code_obj, self.user_global_ns, self.user_ns)\n"
          ]
        }
      ]
    },
    {
      "cell_type": "code",
      "source": [
        "dataset.columns"
      ],
      "metadata": {
        "colab": {
          "base_uri": "https://localhost:8080/"
        },
        "id": "h-v46MNw1Skd",
        "outputId": "bea0e3b6-8995-4874-b35b-550fc8092296"
      },
      "execution_count": null,
      "outputs": [
        {
          "output_type": "execute_result",
          "data": {
            "text/plain": [
              "Index(['Date', 'Timestamp', 'Scr_IP', 'Scr_port', 'Des_IP', 'Des_port',\n",
              "       'Protocol', 'Service', 'Duration', 'Scr_bytes', 'Des_bytes',\n",
              "       'Conn_state', 'missed_bytes', 'is_syn_only', 'Is_SYN_ACK',\n",
              "       'is_pure_ack', 'is_with_payload', 'FIN or RST', 'Bad_checksum',\n",
              "       'is_SYN_with_RST', 'Scr_pkts', 'Scr_ip_bytes', 'Des_pkts',\n",
              "       'Des_ip_bytes', 'anomaly_alert', 'total_bytes', 'total_packet',\n",
              "       'paket_rate', 'byte_rate', 'Scr_packts_ratio', 'Des_pkts_ratio',\n",
              "       'Scr_bytes_ratio', 'Des_bytes_ratio', 'Avg_user_time', 'Std_user_time',\n",
              "       'Avg_nice_time', 'Std_nice_time', 'Avg_system_time', 'Std_system_time',\n",
              "       'Avg_iowait_time', 'Std_iowait_time', 'Avg_ideal_time',\n",
              "       'Std_ideal_time', 'Avg_tps', 'Std_tps', 'Avg_rtps', 'Std_rtps',\n",
              "       'Avg_wtps', 'Std_wtps', 'Avg_ldavg_1', 'Std_ldavg_1', 'Avg_kbmemused',\n",
              "       'Std_kbmemused', 'Avg_num_Proc/s', 'Std_num_proc/s', 'Avg_num_cswch/s',\n",
              "       'std_num_cswch/s', 'OSSEC_alert', 'OSSEC_alert_level', 'Login_attempt',\n",
              "       'Succesful_login', 'File_activity', 'Process_activity',\n",
              "       'read_write_physical.process', 'is_privileged', 'class1', 'class2',\n",
              "       'class3'],\n",
              "      dtype='object')"
            ]
          },
          "metadata": {},
          "execution_count": 3
        }
      ]
    },
    {
      "cell_type": "markdown",
      "source": [
        "## Performing label encoding on the categorical columns"
      ],
      "metadata": {
        "id": "diJmOxiTczPl"
      }
    },
    {
      "cell_type": "code",
      "source": [
        "categorical_columns = ['Date','Des_IP','Protocol','Service','class1','class2','class3','is_syn_only', 'Is_SYN_ACK','Scr_IP',\n",
        "       'is_pure_ack', 'is_with_payload', 'FIN or RST', 'Bad_checksum',\n",
        "       'is_SYN_with_RST','anomaly_alert']"
      ],
      "metadata": {
        "id": "an5oqgfg1nyT"
      },
      "execution_count": null,
      "outputs": []
    },
    {
      "cell_type": "code",
      "source": [
        "# Import label encoder\n",
        "from sklearn import preprocessing\n",
        "  \n",
        "# label_encoder object knows how to understand word labels.\n",
        "label_encoder = preprocessing.LabelEncoder()\n",
        "for col in categorical_columns:\n",
        "  dataset[col]=dataset[col].astype(str)\n",
        "  dataset[col]=label_encoder.fit_transform(dataset[col])"
      ],
      "metadata": {
        "id": "PgfXItji1plM"
      },
      "execution_count": null,
      "outputs": []
    },
    {
      "cell_type": "markdown",
      "source": [
        "## Filling null values with mean"
      ],
      "metadata": {
        "id": "11foDN5YcoTd"
      }
    },
    {
      "cell_type": "code",
      "source": [
        "def is_float(element: any) -> bool:\n",
        "    #If you expect None to be passed:\n",
        "    if element is None: \n",
        "        return False\n",
        "    try:\n",
        "        float(element)\n",
        "        return True\n",
        "    except ValueError:\n",
        "        return False\n",
        "\n",
        "dataset=dataset.replace('?',np.nan)\n",
        "dataset=dataset.replace('-',np.nan)\n",
        "\n",
        "for col in dataset.columns:\n",
        "  dataset=dataset[dataset[col].apply(lambda x: is_float(str(x)))]\n",
        "  if dataset[col].dtype == 'object':\n",
        "    dataset[col]=dataset[col].astype(float)\n",
        "  dataset[col]=dataset[col].fillna(dataset[col].mean())"
      ],
      "metadata": {
        "id": "FpVBJ0fA1xIS"
      },
      "execution_count": null,
      "outputs": []
    },
    {
      "cell_type": "markdown",
      "source": [
        "## Defining features and target value"
      ],
      "metadata": {
        "id": "AthRTPFrdH5N"
      }
    },
    {
      "cell_type": "code",
      "source": [
        "X = dataset.iloc[:, :-1].values\n",
        "y = dataset.iloc[:, -1].values"
      ],
      "metadata": {
        "id": "gX3FtCLc1y0u"
      },
      "execution_count": null,
      "outputs": []
    },
    {
      "cell_type": "markdown",
      "source": [
        "## Splitting train and test set"
      ],
      "metadata": {
        "id": "W382BVnEdMtd"
      }
    },
    {
      "cell_type": "code",
      "source": [
        "from sklearn.model_selection import train_test_split\n",
        "X_train, X_test, y_train, y_test = train_test_split(X, y, test_size = 0.2, random_state = 1)"
      ],
      "metadata": {
        "id": "whPWhCIj2LLh"
      },
      "execution_count": null,
      "outputs": []
    },
    {
      "cell_type": "markdown",
      "source": [
        "## Performing Scaling"
      ],
      "metadata": {
        "id": "NxzPfRhhdYwF"
      }
    },
    {
      "cell_type": "code",
      "source": [
        "from sklearn.preprocessing import StandardScaler\n",
        "sc = StandardScaler()\n",
        "X_train = sc.fit_transform(X_train)\n",
        "X_test = sc.transform(X_test)"
      ],
      "metadata": {
        "id": "GfxYu3Cw2QHK"
      },
      "execution_count": null,
      "outputs": []
    },
    {
      "cell_type": "markdown",
      "source": [
        "## Getting results for RF, SVC, DT Classifiers"
      ],
      "metadata": {
        "id": "gqZIGGmfdRRd"
      }
    },
    {
      "cell_type": "code",
      "source": [
        "from sklearn.ensemble import RandomForestClassifier\n",
        "from sklearn.svm import SVC\n",
        "from sklearn.tree import DecisionTreeClassifier\n",
        "classifiers = [\n",
        "    RandomForestClassifier(),\n",
        "    SVC(),\n",
        "    DecisionTreeClassifier()\n",
        "]"
      ],
      "metadata": {
        "id": "ru7PCqJT2V-2"
      },
      "execution_count": null,
      "outputs": []
    },
    {
      "cell_type": "markdown",
      "source": [
        "##Accuracy calculation for RF, SVC, DT classifiers"
      ],
      "metadata": {
        "id": "0CGujBNn2xcZ"
      }
    },
    {
      "cell_type": "code",
      "source": [
        "from sklearn.metrics import confusion_matrix, accuracy_score\n",
        "i=0\n",
        "for classifier in classifiers:\n",
        "  classifier.fit(X_train,y_train)\n",
        "  y_pred= classifier.predict(X_test)\n",
        "  print(\"Metrices for \"+str(classifiers[i]))\n",
        "  cm = confusion_matrix(y_test, y_pred)\n",
        "  print(\"Confusion Matrix:\")\n",
        "  print(cm)\n",
        "  print(\"Accuracy:\")\n",
        "  print(accuracy_score(y_test, y_pred))\n",
        "  i=i+1"
      ],
      "metadata": {
        "colab": {
          "base_uri": "https://localhost:8080/"
        },
        "id": "xLEdfl9P2hC-",
        "outputId": "32edbc77-0bdc-47f6-8deb-e90b3e7dc6a6"
      },
      "execution_count": null,
      "outputs": [
        {
          "output_type": "stream",
          "name": "stdout",
          "text": [
            "Metrices for RandomForestClassifier()\n",
            "Confusion Matrix:\n",
            "[[79781     0]\n",
            " [    0 84256]]\n",
            "Accuracy:\n",
            "1.0\n",
            "Metrices for SVC()\n",
            "Confusion Matrix:\n",
            "[[79734    47]\n",
            " [    6 84250]]\n",
            "Accuracy:\n",
            "0.9996769021623171\n",
            "Metrices for DecisionTreeClassifier()\n",
            "Confusion Matrix:\n",
            "[[79781     0]\n",
            " [    0 84256]]\n",
            "Accuracy:\n",
            "1.0\n"
          ]
        }
      ]
    },
    {
      "cell_type": "code",
      "source": [
        "from google.colab import files\n",
        "files.download('/content/drive/MyDrive/Classroom/X-IIoTID dataset.csv')"
      ],
      "metadata": {
        "colab": {
          "base_uri": "https://localhost:8080/",
          "height": 17
        },
        "id": "o1fvLuEPEoeT",
        "outputId": "6ad844cb-b553-4aa8-a43e-5b28466663e9"
      },
      "execution_count": null,
      "outputs": [
        {
          "output_type": "display_data",
          "data": {
            "text/plain": [
              "<IPython.core.display.Javascript object>"
            ],
            "application/javascript": [
              "\n",
              "    async function download(id, filename, size) {\n",
              "      if (!google.colab.kernel.accessAllowed) {\n",
              "        return;\n",
              "      }\n",
              "      const div = document.createElement('div');\n",
              "      const label = document.createElement('label');\n",
              "      label.textContent = `Downloading \"${filename}\": `;\n",
              "      div.appendChild(label);\n",
              "      const progress = document.createElement('progress');\n",
              "      progress.max = size;\n",
              "      div.appendChild(progress);\n",
              "      document.body.appendChild(div);\n",
              "\n",
              "      const buffers = [];\n",
              "      let downloaded = 0;\n",
              "\n",
              "      const channel = await google.colab.kernel.comms.open(id);\n",
              "      // Send a message to notify the kernel that we're ready.\n",
              "      channel.send({})\n",
              "\n",
              "      for await (const message of channel.messages) {\n",
              "        // Send a message to notify the kernel that we're ready.\n",
              "        channel.send({})\n",
              "        if (message.buffers) {\n",
              "          for (const buffer of message.buffers) {\n",
              "            buffers.push(buffer);\n",
              "            downloaded += buffer.byteLength;\n",
              "            progress.value = downloaded;\n",
              "          }\n",
              "        }\n",
              "      }\n",
              "      const blob = new Blob(buffers, {type: 'application/binary'});\n",
              "      const a = document.createElement('a');\n",
              "      a.href = window.URL.createObjectURL(blob);\n",
              "      a.download = filename;\n",
              "      div.appendChild(a);\n",
              "      a.click();\n",
              "      div.remove();\n",
              "    }\n",
              "  "
            ]
          },
          "metadata": {}
        },
        {
          "output_type": "display_data",
          "data": {
            "text/plain": [
              "<IPython.core.display.Javascript object>"
            ],
            "application/javascript": [
              "download(\"download_6812a484-3581-4873-8368-dab341ea74f3\", \"X-IIoTID dataset.csv\", 355308902)"
            ]
          },
          "metadata": {}
        }
      ]
    },
    {
      "cell_type": "code",
      "source": [
        "dataset.to_csv('C:\\Users\\Apoorv\\OneDrive\\Documents\\preprocess.csv', sep='\\t')"
      ],
      "metadata": {
        "colab": {
          "base_uri": "https://localhost:8080/",
          "height": 130
        },
        "id": "gY9jUUpnEvty",
        "outputId": "84df4d48-b57f-4bd3-c59e-ba20c713339f"
      },
      "execution_count": null,
      "outputs": [
        {
          "output_type": "error",
          "ename": "SyntaxError",
          "evalue": "ignored",
          "traceback": [
            "\u001b[0;36m  File \u001b[0;32m\"<ipython-input-13-b454c9af528a>\"\u001b[0;36m, line \u001b[0;32m1\u001b[0m\n\u001b[0;31m    dataset.to_csv('C:\\Users\\Apoorv\\OneDrive\\Documents', sep='\\t')\u001b[0m\n\u001b[0m                   ^\u001b[0m\n\u001b[0;31mSyntaxError\u001b[0m\u001b[0;31m:\u001b[0m (unicode error) 'unicodeescape' codec can't decode bytes in position 2-3: truncated \\UXXXXXXXX escape\n"
          ]
        }
      ]
    },
    {
      "cell_type": "code",
      "source": [
        "dataset.to_csv('C:\\Users\\Apoorv\\OneDrive\\Documents\\preprocess.csv', sep='\\t')"
      ],
      "metadata": {
        "colab": {
          "base_uri": "https://localhost:8080/",
          "height": 130
        },
        "id": "ttv7NS21OKsG",
        "outputId": "62b34ef5-bec3-47e4-e96e-8d3c6a4a911d"
      },
      "execution_count": null,
      "outputs": [
        {
          "output_type": "error",
          "ename": "SyntaxError",
          "evalue": "ignored",
          "traceback": [
            "\u001b[0;36m  File \u001b[0;32m\"<ipython-input-14-436a8a51271a>\"\u001b[0;36m, line \u001b[0;32m1\u001b[0m\n\u001b[0;31m    dataset.to_csv('C:\\Users\\Apoorv\\OneDrive\\Documents\\preprocess.csv', sep='\\t')\u001b[0m\n\u001b[0m                   ^\u001b[0m\n\u001b[0;31mSyntaxError\u001b[0m\u001b[0;31m:\u001b[0m (unicode error) 'unicodeescape' codec can't decode bytes in position 2-3: truncated \\UXXXXXXXX escape\n"
          ]
        }
      ]
    },
    {
      "cell_type": "code",
      "source": [
        "dataset.to_csv('C:\\Users\\Apoorv\\OneDrive\\Documents\\preprocess.csv', sep='\\t')"
      ],
      "metadata": {
        "colab": {
          "base_uri": "https://localhost:8080/",
          "height": 130
        },
        "id": "mJODsSmxOmVI",
        "outputId": "8b43880d-97d0-47b4-e71f-04ebaa3c59d2"
      },
      "execution_count": null,
      "outputs": [
        {
          "output_type": "error",
          "ename": "SyntaxError",
          "evalue": "ignored",
          "traceback": [
            "\u001b[0;36m  File \u001b[0;32m\"<ipython-input-15-436a8a51271a>\"\u001b[0;36m, line \u001b[0;32m1\u001b[0m\n\u001b[0;31m    dataset.to_csv('C:\\Users\\Apoorv\\OneDrive\\Documents\\preprocess.csv', sep='\\t')\u001b[0m\n\u001b[0m                   ^\u001b[0m\n\u001b[0;31mSyntaxError\u001b[0m\u001b[0;31m:\u001b[0m (unicode error) 'unicodeescape' codec can't decode bytes in position 2-3: truncated \\UXXXXXXXX escape\n"
          ]
        }
      ]
    },
    {
      "cell_type": "code",
      "source": [
        "dataset = pd.read_csv('/content/drive/MyDrive/Classroom/X-IIoTID dataset.csv')\n"
      ],
      "metadata": {
        "colab": {
          "base_uri": "https://localhost:8080/"
        },
        "id": "3adJ42mqO35f",
        "outputId": "3769856a-606e-4c8b-a468-f3d9d0ebc3db"
      },
      "execution_count": null,
      "outputs": [
        {
          "output_type": "stream",
          "name": "stderr",
          "text": [
            "/usr/local/lib/python3.8/dist-packages/IPython/core/interactiveshell.py:3326: DtypeWarning: Columns (1,3,5,12,24) have mixed types.Specify dtype option on import or set low_memory=False.\n",
            "  exec(code_obj, self.user_global_ns, self.user_ns)\n"
          ]
        }
      ]
    },
    {
      "cell_type": "code",
      "source": [
        "dataset.to_csv(r\"C:\\Users\\Apoorv\\OneDrive\\Documents\\preprocessed.csv', sep='\\t\")"
      ],
      "metadata": {
        "id": "QcMIMN-KO7X1"
      },
      "execution_count": null,
      "outputs": []
    },
    {
      "cell_type": "code",
      "source": [
        "dataset.to_csv(r\"C:\\Users\\Apoorv\\OneDrive\\Documents\\preprocessed.csv', sep='\\t\")"
      ],
      "metadata": {
        "id": "FkgM7rojPAQu"
      },
      "execution_count": null,
      "outputs": []
    },
    {
      "cell_type": "code",
      "source": [
        "dataset.to_csv(r\"C:\\Users\\Apoorv\\OneDrive\\Documents\\preprocessed.csv\", sep='\\t')"
      ],
      "metadata": {
        "id": "YrZ1z5NTQwMP"
      },
      "execution_count": null,
      "outputs": []
    }
  ]
}